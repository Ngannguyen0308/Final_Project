{
 "cells": [
  {
   "cell_type": "code",
   "execution_count": 1,
   "source": [
    "import pandas as pd\r\n",
    "import numpy as np\r\n",
    "import plotly.express as px\r\n",
    "import plotly.graph_objects as go \r\n",
    "from plotly.subplots import make_subplots\r\n",
    "import matplotlib.pyplot as plt\r\n",
    "import json"
   ],
   "outputs": [],
   "metadata": {}
  },
  {
   "cell_type": "code",
   "execution_count": 2,
   "source": [
    "px"
   ],
   "outputs": [
    {
     "output_type": "execute_result",
     "data": {
      "text/plain": [
       "<module 'plotly.express' from 'C:\\\\Users\\\\HP\\\\anaconda\\\\lib\\\\site-packages\\\\plotly\\\\express\\\\__init__.py'>"
      ]
     },
     "metadata": {},
     "execution_count": 2
    }
   ],
   "metadata": {}
  },
  {
   "cell_type": "code",
   "execution_count": 3,
   "source": [
    "#import your data: \r\n",
    "base_url1 = 'https://raw.githubusercontent.com/CSSEGISandData/COVID-19/master/csse_covid_19_data/csse_covid_19_time_series/time_series_covid19_confirmed_global.csv'\r\n",
    "base_url2 = 'https://raw.githubusercontent.com/CSSEGISandData/COVID-19/master/csse_covid_19_data/csse_covid_19_time_series/time_series_covid19_deaths_global.csv'\r\n",
    "base_url3 = 'https://raw.githubusercontent.com/CSSEGISandData/COVID-19/master/csse_covid_19_data/csse_covid_19_time_series/time_series_covid19_recovered_global.csv'\r\n",
    "\r\n",
    "confirm_df = pd.read_csv(base_url1)\r\n",
    "death_df=pd.read_csv(base_url2)\r\n",
    "recv_df=pd.read_csv(base_url3)\r\n"
   ],
   "outputs": [],
   "metadata": {}
  },
  {
   "cell_type": "code",
   "execution_count": 4,
   "source": [
    "#confirm_df.head()"
   ],
   "outputs": [],
   "metadata": {}
  },
  {
   "cell_type": "code",
   "execution_count": 5,
   "source": [
    "#death_df.head()"
   ],
   "outputs": [],
   "metadata": {}
  },
  {
   "cell_type": "code",
   "execution_count": 6,
   "source": [
    "#recv_df.head()"
   ],
   "outputs": [],
   "metadata": {}
  },
  {
   "cell_type": "code",
   "execution_count": 7,
   "source": [
    "#drop col\r\n",
    "confirm_df =confirm_df.drop(columns=['Lat','Long','Province/State'])\r\n",
    "death_df = death_df.drop(columns=['Lat','Long','Province/State'])\r\n",
    "recv_df =recv_df.drop(columns=['Lat','Long','Province/State'])\r\n"
   ],
   "outputs": [],
   "metadata": {}
  },
  {
   "cell_type": "code",
   "execution_count": 8,
   "source": [
    "#1> Group by country:\r\n",
    "confirm_df = confirm_df.groupby(by='Country/Region').aggregate(np.sum).T\r\n",
    "confirm_df.index.name='Date'\r\n",
    "confirm_df = confirm_df.reset_index()\r\n",
    "death_df = death_df.groupby(by='Country/Region').aggregate(np.sum).T\r\n",
    "death_df.index.name='Date'\r\n",
    "death_df = death_df.reset_index()\r\n",
    "recv_df = recv_df.groupby(by='Country/Region').aggregate(np.sum).T\r\n",
    "recv_df.index.name='Date'\r\n",
    "recv_df = recv_df.reset_index()\r\n"
   ],
   "outputs": [],
   "metadata": {}
  },
  {
   "cell_type": "code",
   "execution_count": 9,
   "source": [
    "#confirm_df"
   ],
   "outputs": [],
   "metadata": {}
  },
  {
   "cell_type": "code",
   "execution_count": 10,
   "source": [
    "#format data to long form:\r\n",
    "confirm_melt= confirm_df.melt(id_vars='Date').copy()\r\n",
    "confirm_melt.rename(columns={'value':'Confirmed'}, inplace=True)\r\n",
    "\r\n",
    "death_melt= death_df.melt(id_vars='Date').copy()\r\n",
    "death_melt.rename(columns={'value':'Deaths'}, inplace=True)\r\n",
    "\r\n",
    "recv_melt= recv_df.melt(id_vars='Date').copy()\r\n",
    "recv_melt.rename(columns={'value':'Recovered'}, inplace=True)\r\n",
    "\r\n",
    "#confirm_melt\r\n",
    "#death_melt\r\n",
    "#recv_melt"
   ],
   "outputs": [],
   "metadata": {}
  },
  {
   "cell_type": "code",
   "execution_count": 11,
   "source": [
    "#2> Fix the date format:\r\n",
    "confirm_melt['Date']= pd.to_datetime(confirm_melt['Date'])\r\n",
    "confirm_melt['Date'] = confirm_melt['Date'].dt.strftime('%d/%m/%Y')\r\n",
    "\r\n",
    "death_melt['Date']= pd.to_datetime(death_melt['Date'])\r\n",
    "death_melt['Date'] = death_melt['Date'].dt.strftime('%d/%m/%Y')\r\n",
    "\r\n",
    "recv_melt['Date']= pd.to_datetime(recv_melt['Date'])\r\n",
    "recv_melt['Date'] = recv_melt['Date'].dt.strftime('%d/%m/%Y')"
   ],
   "outputs": [],
   "metadata": {}
  },
  {
   "cell_type": "code",
   "execution_count": 12,
   "source": [
    "#confirm_melt"
   ],
   "outputs": [],
   "metadata": {}
  },
  {
   "cell_type": "code",
   "execution_count": 13,
   "source": [
    "max_date = confirm_melt['Date'].max()\r\n",
    "max_date"
   ],
   "outputs": [
    {
     "output_type": "execute_result",
     "data": {
      "text/plain": [
       "'31/12/2020'"
      ]
     },
     "metadata": {},
     "execution_count": 13
    }
   ],
   "metadata": {}
  },
  {
   "cell_type": "code",
   "execution_count": 14,
   "source": [
    "#3> Total of Confirmed, deaths, recovered, and active cases:\r\n",
    "total_confirm = confirm_melt[confirm_melt['Date'] == max_date]\r\n",
    "total_confirm"
   ],
   "outputs": [
    {
     "output_type": "execute_result",
     "data": {
      "text/html": [
       "<div>\n",
       "<style scoped>\n",
       "    .dataframe tbody tr th:only-of-type {\n",
       "        vertical-align: middle;\n",
       "    }\n",
       "\n",
       "    .dataframe tbody tr th {\n",
       "        vertical-align: top;\n",
       "    }\n",
       "\n",
       "    .dataframe thead th {\n",
       "        text-align: right;\n",
       "    }\n",
       "</style>\n",
       "<table border=\"1\" class=\"dataframe\">\n",
       "  <thead>\n",
       "    <tr style=\"text-align: right;\">\n",
       "      <th></th>\n",
       "      <th>Date</th>\n",
       "      <th>Country/Region</th>\n",
       "      <th>Confirmed</th>\n",
       "    </tr>\n",
       "  </thead>\n",
       "  <tbody>\n",
       "    <tr>\n",
       "      <th>344</th>\n",
       "      <td>31/12/2020</td>\n",
       "      <td>Afghanistan</td>\n",
       "      <td>52330</td>\n",
       "    </tr>\n",
       "    <tr>\n",
       "      <th>961</th>\n",
       "      <td>31/12/2020</td>\n",
       "      <td>Albania</td>\n",
       "      <td>58316</td>\n",
       "    </tr>\n",
       "    <tr>\n",
       "      <th>1578</th>\n",
       "      <td>31/12/2020</td>\n",
       "      <td>Algeria</td>\n",
       "      <td>99610</td>\n",
       "    </tr>\n",
       "    <tr>\n",
       "      <th>2195</th>\n",
       "      <td>31/12/2020</td>\n",
       "      <td>Andorra</td>\n",
       "      <td>8049</td>\n",
       "    </tr>\n",
       "    <tr>\n",
       "      <th>2812</th>\n",
       "      <td>31/12/2020</td>\n",
       "      <td>Angola</td>\n",
       "      <td>17553</td>\n",
       "    </tr>\n",
       "    <tr>\n",
       "      <th>...</th>\n",
       "      <td>...</td>\n",
       "      <td>...</td>\n",
       "      <td>...</td>\n",
       "    </tr>\n",
       "    <tr>\n",
       "      <th>117574</th>\n",
       "      <td>31/12/2020</td>\n",
       "      <td>Vietnam</td>\n",
       "      <td>1465</td>\n",
       "    </tr>\n",
       "    <tr>\n",
       "      <th>118191</th>\n",
       "      <td>31/12/2020</td>\n",
       "      <td>West Bank and Gaza</td>\n",
       "      <td>138004</td>\n",
       "    </tr>\n",
       "    <tr>\n",
       "      <th>118808</th>\n",
       "      <td>31/12/2020</td>\n",
       "      <td>Yemen</td>\n",
       "      <td>2099</td>\n",
       "    </tr>\n",
       "    <tr>\n",
       "      <th>119425</th>\n",
       "      <td>31/12/2020</td>\n",
       "      <td>Zambia</td>\n",
       "      <td>20725</td>\n",
       "    </tr>\n",
       "    <tr>\n",
       "      <th>120042</th>\n",
       "      <td>31/12/2020</td>\n",
       "      <td>Zimbabwe</td>\n",
       "      <td>13867</td>\n",
       "    </tr>\n",
       "  </tbody>\n",
       "</table>\n",
       "<p>195 rows × 3 columns</p>\n",
       "</div>"
      ],
      "text/plain": [
       "              Date      Country/Region  Confirmed\n",
       "344     31/12/2020         Afghanistan      52330\n",
       "961     31/12/2020             Albania      58316\n",
       "1578    31/12/2020             Algeria      99610\n",
       "2195    31/12/2020             Andorra       8049\n",
       "2812    31/12/2020              Angola      17553\n",
       "...            ...                 ...        ...\n",
       "117574  31/12/2020             Vietnam       1465\n",
       "118191  31/12/2020  West Bank and Gaza     138004\n",
       "118808  31/12/2020               Yemen       2099\n",
       "119425  31/12/2020              Zambia      20725\n",
       "120042  31/12/2020            Zimbabwe      13867\n",
       "\n",
       "[195 rows x 3 columns]"
      ]
     },
     "metadata": {},
     "execution_count": 14
    }
   ],
   "metadata": {}
  },
  {
   "cell_type": "code",
   "execution_count": 15,
   "source": [
    "totalConfir = total_confirm['Confirmed'].sum()\r\n",
    "print(totalConfir)"
   ],
   "outputs": [
    {
     "output_type": "stream",
     "name": "stdout",
     "text": [
      "83637784\n"
     ]
    }
   ],
   "metadata": {}
  },
  {
   "cell_type": "code",
   "execution_count": 16,
   "source": [
    "total_death = death_melt[death_melt['Date'] == max_date]\r\n",
    "total_death"
   ],
   "outputs": [
    {
     "output_type": "execute_result",
     "data": {
      "text/html": [
       "<div>\n",
       "<style scoped>\n",
       "    .dataframe tbody tr th:only-of-type {\n",
       "        vertical-align: middle;\n",
       "    }\n",
       "\n",
       "    .dataframe tbody tr th {\n",
       "        vertical-align: top;\n",
       "    }\n",
       "\n",
       "    .dataframe thead th {\n",
       "        text-align: right;\n",
       "    }\n",
       "</style>\n",
       "<table border=\"1\" class=\"dataframe\">\n",
       "  <thead>\n",
       "    <tr style=\"text-align: right;\">\n",
       "      <th></th>\n",
       "      <th>Date</th>\n",
       "      <th>Country/Region</th>\n",
       "      <th>Deaths</th>\n",
       "    </tr>\n",
       "  </thead>\n",
       "  <tbody>\n",
       "    <tr>\n",
       "      <th>344</th>\n",
       "      <td>31/12/2020</td>\n",
       "      <td>Afghanistan</td>\n",
       "      <td>2189</td>\n",
       "    </tr>\n",
       "    <tr>\n",
       "      <th>961</th>\n",
       "      <td>31/12/2020</td>\n",
       "      <td>Albania</td>\n",
       "      <td>1181</td>\n",
       "    </tr>\n",
       "    <tr>\n",
       "      <th>1578</th>\n",
       "      <td>31/12/2020</td>\n",
       "      <td>Algeria</td>\n",
       "      <td>2756</td>\n",
       "    </tr>\n",
       "    <tr>\n",
       "      <th>2195</th>\n",
       "      <td>31/12/2020</td>\n",
       "      <td>Andorra</td>\n",
       "      <td>84</td>\n",
       "    </tr>\n",
       "    <tr>\n",
       "      <th>2812</th>\n",
       "      <td>31/12/2020</td>\n",
       "      <td>Angola</td>\n",
       "      <td>405</td>\n",
       "    </tr>\n",
       "    <tr>\n",
       "      <th>...</th>\n",
       "      <td>...</td>\n",
       "      <td>...</td>\n",
       "      <td>...</td>\n",
       "    </tr>\n",
       "    <tr>\n",
       "      <th>117574</th>\n",
       "      <td>31/12/2020</td>\n",
       "      <td>Vietnam</td>\n",
       "      <td>35</td>\n",
       "    </tr>\n",
       "    <tr>\n",
       "      <th>118191</th>\n",
       "      <td>31/12/2020</td>\n",
       "      <td>West Bank and Gaza</td>\n",
       "      <td>1400</td>\n",
       "    </tr>\n",
       "    <tr>\n",
       "      <th>118808</th>\n",
       "      <td>31/12/2020</td>\n",
       "      <td>Yemen</td>\n",
       "      <td>610</td>\n",
       "    </tr>\n",
       "    <tr>\n",
       "      <th>119425</th>\n",
       "      <td>31/12/2020</td>\n",
       "      <td>Zambia</td>\n",
       "      <td>388</td>\n",
       "    </tr>\n",
       "    <tr>\n",
       "      <th>120042</th>\n",
       "      <td>31/12/2020</td>\n",
       "      <td>Zimbabwe</td>\n",
       "      <td>363</td>\n",
       "    </tr>\n",
       "  </tbody>\n",
       "</table>\n",
       "<p>195 rows × 3 columns</p>\n",
       "</div>"
      ],
      "text/plain": [
       "              Date      Country/Region  Deaths\n",
       "344     31/12/2020         Afghanistan    2189\n",
       "961     31/12/2020             Albania    1181\n",
       "1578    31/12/2020             Algeria    2756\n",
       "2195    31/12/2020             Andorra      84\n",
       "2812    31/12/2020              Angola     405\n",
       "...            ...                 ...     ...\n",
       "117574  31/12/2020             Vietnam      35\n",
       "118191  31/12/2020  West Bank and Gaza    1400\n",
       "118808  31/12/2020               Yemen     610\n",
       "119425  31/12/2020              Zambia     388\n",
       "120042  31/12/2020            Zimbabwe     363\n",
       "\n",
       "[195 rows x 3 columns]"
      ]
     },
     "metadata": {},
     "execution_count": 16
    }
   ],
   "metadata": {}
  },
  {
   "cell_type": "code",
   "execution_count": 17,
   "source": [
    "totalDeaths = total_death['Deaths'].sum()\r\n",
    "print(totalDeaths)"
   ],
   "outputs": [
    {
     "output_type": "stream",
     "name": "stdout",
     "text": [
      "1880709\n"
     ]
    }
   ],
   "metadata": {}
  },
  {
   "cell_type": "code",
   "execution_count": 18,
   "source": [
    "total_recv = recv_melt[recv_melt['Date'] == max_date]\r\n",
    "totalRecv = total_recv['Recovered'].sum()\r\n",
    "print(totalRecv)"
   ],
   "outputs": [
    {
     "output_type": "stream",
     "name": "stdout",
     "text": [
      "47055807\n"
     ]
    }
   ],
   "metadata": {}
  },
  {
   "cell_type": "code",
   "execution_count": 19,
   "source": [
    "#tong ca nhiem hien tai\r\n",
    "\r\n",
    "totalActive = totalConfir - totalDeaths - totalRecv\r\n",
    "print(totalActive)"
   ],
   "outputs": [
    {
     "output_type": "stream",
     "name": "stdout",
     "text": [
      "34701268\n"
     ]
    }
   ],
   "metadata": {}
  },
  {
   "cell_type": "code",
   "execution_count": 20,
   "source": [
    "#4> create a Keys Performence Indicator(KPI) of total confirmed, \r\n",
    "# deaths, recovered, and active cases:\r\n",
    "fig = go.Figure()\r\n",
    "fig.add_trace(go.Indicator(\r\n",
    "    mode = 'number', value= int(totalConfir),\r\n",
    "    number= {\"valueformat\":\"0,f\"}, \r\n",
    "    title={\"text\":\"Total Confirmed Cases\"}, \r\n",
    "    domain= {'row':0, 'column':0}\r\n",
    "))\r\n",
    "fig.add_trace(go.Indicator(\r\n",
    "    mode='number', value= int(totalDeaths), \r\n",
    "    number= {\"valueformat\":\"0,f\"}, \r\n",
    "    title= {'text':'Total Deaths Cases'},\r\n",
    "    domain= {'row':0, 'column':1}\r\n",
    "))\r\n",
    "fig.add_trace(go.Indicator(\r\n",
    "    mode = 'number', value= int(totalRecv),\r\n",
    "    number= {\"valueformat\":\"0,f\"},\r\n",
    "    title={\"text\":\"Total Recovered Cases\"}, \r\n",
    "    domain= {'row':1, 'column':0}\r\n",
    "))\r\n",
    "fig.add_trace(go.Indicator(\r\n",
    "    mode = 'number', value= int(totalActive),\r\n",
    "    number= {\"valueformat\":\"0,f\"},\r\n",
    "    title={\"text\":\"Total Active Cases\"}, \r\n",
    "    domain= {'row':1, 'column':1}\r\n",
    "))\r\n",
    "\r\n",
    "fig.update_layout(grid = {'rows': 2, 'columns': 2, 'pattern': 'independent'})\r\n",
    "fig.show()"
   ],
   "outputs": [
    {
     "output_type": "display_data",
     "data": {
      "application/vnd.plotly.v1+json": {
       "config": {
        "plotlyServerURL": "https://plot.ly"
       },
       "data": [
        {
         "domain": {
          "column": 0,
          "row": 0
         },
         "mode": "number",
         "number": {
          "valueformat": "0,f"
         },
         "title": {
          "text": "Total Confirmed Cases"
         },
         "type": "indicator",
         "value": 83637784
        },
        {
         "domain": {
          "column": 1,
          "row": 0
         },
         "mode": "number",
         "number": {
          "valueformat": "0,f"
         },
         "title": {
          "text": "Total Deaths Cases"
         },
         "type": "indicator",
         "value": 1880709
        },
        {
         "domain": {
          "column": 0,
          "row": 1
         },
         "mode": "number",
         "number": {
          "valueformat": "0,f"
         },
         "title": {
          "text": "Total Recovered Cases"
         },
         "type": "indicator",
         "value": 47055807
        },
        {
         "domain": {
          "column": 1,
          "row": 1
         },
         "mode": "number",
         "number": {
          "valueformat": "0,f"
         },
         "title": {
          "text": "Total Active Cases"
         },
         "type": "indicator",
         "value": 34701268
        }
       ],
       "layout": {
        "grid": {
         "columns": 2,
         "pattern": "independent",
         "rows": 2
        },
        "template": {
         "data": {
          "bar": [
           {
            "error_x": {
             "color": "#2a3f5f"
            },
            "error_y": {
             "color": "#2a3f5f"
            },
            "marker": {
             "line": {
              "color": "#E5ECF6",
              "width": 0.5
             },
             "pattern": {
              "fillmode": "overlay",
              "size": 10,
              "solidity": 0.2
             }
            },
            "type": "bar"
           }
          ],
          "barpolar": [
           {
            "marker": {
             "line": {
              "color": "#E5ECF6",
              "width": 0.5
             },
             "pattern": {
              "fillmode": "overlay",
              "size": 10,
              "solidity": 0.2
             }
            },
            "type": "barpolar"
           }
          ],
          "carpet": [
           {
            "aaxis": {
             "endlinecolor": "#2a3f5f",
             "gridcolor": "white",
             "linecolor": "white",
             "minorgridcolor": "white",
             "startlinecolor": "#2a3f5f"
            },
            "baxis": {
             "endlinecolor": "#2a3f5f",
             "gridcolor": "white",
             "linecolor": "white",
             "minorgridcolor": "white",
             "startlinecolor": "#2a3f5f"
            },
            "type": "carpet"
           }
          ],
          "choropleth": [
           {
            "colorbar": {
             "outlinewidth": 0,
             "ticks": ""
            },
            "type": "choropleth"
           }
          ],
          "contour": [
           {
            "colorbar": {
             "outlinewidth": 0,
             "ticks": ""
            },
            "colorscale": [
             [
              0,
              "#0d0887"
             ],
             [
              0.1111111111111111,
              "#46039f"
             ],
             [
              0.2222222222222222,
              "#7201a8"
             ],
             [
              0.3333333333333333,
              "#9c179e"
             ],
             [
              0.4444444444444444,
              "#bd3786"
             ],
             [
              0.5555555555555556,
              "#d8576b"
             ],
             [
              0.6666666666666666,
              "#ed7953"
             ],
             [
              0.7777777777777778,
              "#fb9f3a"
             ],
             [
              0.8888888888888888,
              "#fdca26"
             ],
             [
              1,
              "#f0f921"
             ]
            ],
            "type": "contour"
           }
          ],
          "contourcarpet": [
           {
            "colorbar": {
             "outlinewidth": 0,
             "ticks": ""
            },
            "type": "contourcarpet"
           }
          ],
          "heatmap": [
           {
            "colorbar": {
             "outlinewidth": 0,
             "ticks": ""
            },
            "colorscale": [
             [
              0,
              "#0d0887"
             ],
             [
              0.1111111111111111,
              "#46039f"
             ],
             [
              0.2222222222222222,
              "#7201a8"
             ],
             [
              0.3333333333333333,
              "#9c179e"
             ],
             [
              0.4444444444444444,
              "#bd3786"
             ],
             [
              0.5555555555555556,
              "#d8576b"
             ],
             [
              0.6666666666666666,
              "#ed7953"
             ],
             [
              0.7777777777777778,
              "#fb9f3a"
             ],
             [
              0.8888888888888888,
              "#fdca26"
             ],
             [
              1,
              "#f0f921"
             ]
            ],
            "type": "heatmap"
           }
          ],
          "heatmapgl": [
           {
            "colorbar": {
             "outlinewidth": 0,
             "ticks": ""
            },
            "colorscale": [
             [
              0,
              "#0d0887"
             ],
             [
              0.1111111111111111,
              "#46039f"
             ],
             [
              0.2222222222222222,
              "#7201a8"
             ],
             [
              0.3333333333333333,
              "#9c179e"
             ],
             [
              0.4444444444444444,
              "#bd3786"
             ],
             [
              0.5555555555555556,
              "#d8576b"
             ],
             [
              0.6666666666666666,
              "#ed7953"
             ],
             [
              0.7777777777777778,
              "#fb9f3a"
             ],
             [
              0.8888888888888888,
              "#fdca26"
             ],
             [
              1,
              "#f0f921"
             ]
            ],
            "type": "heatmapgl"
           }
          ],
          "histogram": [
           {
            "marker": {
             "pattern": {
              "fillmode": "overlay",
              "size": 10,
              "solidity": 0.2
             }
            },
            "type": "histogram"
           }
          ],
          "histogram2d": [
           {
            "colorbar": {
             "outlinewidth": 0,
             "ticks": ""
            },
            "colorscale": [
             [
              0,
              "#0d0887"
             ],
             [
              0.1111111111111111,
              "#46039f"
             ],
             [
              0.2222222222222222,
              "#7201a8"
             ],
             [
              0.3333333333333333,
              "#9c179e"
             ],
             [
              0.4444444444444444,
              "#bd3786"
             ],
             [
              0.5555555555555556,
              "#d8576b"
             ],
             [
              0.6666666666666666,
              "#ed7953"
             ],
             [
              0.7777777777777778,
              "#fb9f3a"
             ],
             [
              0.8888888888888888,
              "#fdca26"
             ],
             [
              1,
              "#f0f921"
             ]
            ],
            "type": "histogram2d"
           }
          ],
          "histogram2dcontour": [
           {
            "colorbar": {
             "outlinewidth": 0,
             "ticks": ""
            },
            "colorscale": [
             [
              0,
              "#0d0887"
             ],
             [
              0.1111111111111111,
              "#46039f"
             ],
             [
              0.2222222222222222,
              "#7201a8"
             ],
             [
              0.3333333333333333,
              "#9c179e"
             ],
             [
              0.4444444444444444,
              "#bd3786"
             ],
             [
              0.5555555555555556,
              "#d8576b"
             ],
             [
              0.6666666666666666,
              "#ed7953"
             ],
             [
              0.7777777777777778,
              "#fb9f3a"
             ],
             [
              0.8888888888888888,
              "#fdca26"
             ],
             [
              1,
              "#f0f921"
             ]
            ],
            "type": "histogram2dcontour"
           }
          ],
          "mesh3d": [
           {
            "colorbar": {
             "outlinewidth": 0,
             "ticks": ""
            },
            "type": "mesh3d"
           }
          ],
          "parcoords": [
           {
            "line": {
             "colorbar": {
              "outlinewidth": 0,
              "ticks": ""
             }
            },
            "type": "parcoords"
           }
          ],
          "pie": [
           {
            "automargin": true,
            "type": "pie"
           }
          ],
          "scatter": [
           {
            "marker": {
             "colorbar": {
              "outlinewidth": 0,
              "ticks": ""
             }
            },
            "type": "scatter"
           }
          ],
          "scatter3d": [
           {
            "line": {
             "colorbar": {
              "outlinewidth": 0,
              "ticks": ""
             }
            },
            "marker": {
             "colorbar": {
              "outlinewidth": 0,
              "ticks": ""
             }
            },
            "type": "scatter3d"
           }
          ],
          "scattercarpet": [
           {
            "marker": {
             "colorbar": {
              "outlinewidth": 0,
              "ticks": ""
             }
            },
            "type": "scattercarpet"
           }
          ],
          "scattergeo": [
           {
            "marker": {
             "colorbar": {
              "outlinewidth": 0,
              "ticks": ""
             }
            },
            "type": "scattergeo"
           }
          ],
          "scattergl": [
           {
            "marker": {
             "colorbar": {
              "outlinewidth": 0,
              "ticks": ""
             }
            },
            "type": "scattergl"
           }
          ],
          "scattermapbox": [
           {
            "marker": {
             "colorbar": {
              "outlinewidth": 0,
              "ticks": ""
             }
            },
            "type": "scattermapbox"
           }
          ],
          "scatterpolar": [
           {
            "marker": {
             "colorbar": {
              "outlinewidth": 0,
              "ticks": ""
             }
            },
            "type": "scatterpolar"
           }
          ],
          "scatterpolargl": [
           {
            "marker": {
             "colorbar": {
              "outlinewidth": 0,
              "ticks": ""
             }
            },
            "type": "scatterpolargl"
           }
          ],
          "scatterternary": [
           {
            "marker": {
             "colorbar": {
              "outlinewidth": 0,
              "ticks": ""
             }
            },
            "type": "scatterternary"
           }
          ],
          "surface": [
           {
            "colorbar": {
             "outlinewidth": 0,
             "ticks": ""
            },
            "colorscale": [
             [
              0,
              "#0d0887"
             ],
             [
              0.1111111111111111,
              "#46039f"
             ],
             [
              0.2222222222222222,
              "#7201a8"
             ],
             [
              0.3333333333333333,
              "#9c179e"
             ],
             [
              0.4444444444444444,
              "#bd3786"
             ],
             [
              0.5555555555555556,
              "#d8576b"
             ],
             [
              0.6666666666666666,
              "#ed7953"
             ],
             [
              0.7777777777777778,
              "#fb9f3a"
             ],
             [
              0.8888888888888888,
              "#fdca26"
             ],
             [
              1,
              "#f0f921"
             ]
            ],
            "type": "surface"
           }
          ],
          "table": [
           {
            "cells": {
             "fill": {
              "color": "#EBF0F8"
             },
             "line": {
              "color": "white"
             }
            },
            "header": {
             "fill": {
              "color": "#C8D4E3"
             },
             "line": {
              "color": "white"
             }
            },
            "type": "table"
           }
          ]
         },
         "layout": {
          "annotationdefaults": {
           "arrowcolor": "#2a3f5f",
           "arrowhead": 0,
           "arrowwidth": 1
          },
          "autotypenumbers": "strict",
          "coloraxis": {
           "colorbar": {
            "outlinewidth": 0,
            "ticks": ""
           }
          },
          "colorscale": {
           "diverging": [
            [
             0,
             "#8e0152"
            ],
            [
             0.1,
             "#c51b7d"
            ],
            [
             0.2,
             "#de77ae"
            ],
            [
             0.3,
             "#f1b6da"
            ],
            [
             0.4,
             "#fde0ef"
            ],
            [
             0.5,
             "#f7f7f7"
            ],
            [
             0.6,
             "#e6f5d0"
            ],
            [
             0.7,
             "#b8e186"
            ],
            [
             0.8,
             "#7fbc41"
            ],
            [
             0.9,
             "#4d9221"
            ],
            [
             1,
             "#276419"
            ]
           ],
           "sequential": [
            [
             0,
             "#0d0887"
            ],
            [
             0.1111111111111111,
             "#46039f"
            ],
            [
             0.2222222222222222,
             "#7201a8"
            ],
            [
             0.3333333333333333,
             "#9c179e"
            ],
            [
             0.4444444444444444,
             "#bd3786"
            ],
            [
             0.5555555555555556,
             "#d8576b"
            ],
            [
             0.6666666666666666,
             "#ed7953"
            ],
            [
             0.7777777777777778,
             "#fb9f3a"
            ],
            [
             0.8888888888888888,
             "#fdca26"
            ],
            [
             1,
             "#f0f921"
            ]
           ],
           "sequentialminus": [
            [
             0,
             "#0d0887"
            ],
            [
             0.1111111111111111,
             "#46039f"
            ],
            [
             0.2222222222222222,
             "#7201a8"
            ],
            [
             0.3333333333333333,
             "#9c179e"
            ],
            [
             0.4444444444444444,
             "#bd3786"
            ],
            [
             0.5555555555555556,
             "#d8576b"
            ],
            [
             0.6666666666666666,
             "#ed7953"
            ],
            [
             0.7777777777777778,
             "#fb9f3a"
            ],
            [
             0.8888888888888888,
             "#fdca26"
            ],
            [
             1,
             "#f0f921"
            ]
           ]
          },
          "colorway": [
           "#636efa",
           "#EF553B",
           "#00cc96",
           "#ab63fa",
           "#FFA15A",
           "#19d3f3",
           "#FF6692",
           "#B6E880",
           "#FF97FF",
           "#FECB52"
          ],
          "font": {
           "color": "#2a3f5f"
          },
          "geo": {
           "bgcolor": "white",
           "lakecolor": "white",
           "landcolor": "#E5ECF6",
           "showlakes": true,
           "showland": true,
           "subunitcolor": "white"
          },
          "hoverlabel": {
           "align": "left"
          },
          "hovermode": "closest",
          "mapbox": {
           "style": "light"
          },
          "paper_bgcolor": "white",
          "plot_bgcolor": "#E5ECF6",
          "polar": {
           "angularaxis": {
            "gridcolor": "white",
            "linecolor": "white",
            "ticks": ""
           },
           "bgcolor": "#E5ECF6",
           "radialaxis": {
            "gridcolor": "white",
            "linecolor": "white",
            "ticks": ""
           }
          },
          "scene": {
           "xaxis": {
            "backgroundcolor": "#E5ECF6",
            "gridcolor": "white",
            "gridwidth": 2,
            "linecolor": "white",
            "showbackground": true,
            "ticks": "",
            "zerolinecolor": "white"
           },
           "yaxis": {
            "backgroundcolor": "#E5ECF6",
            "gridcolor": "white",
            "gridwidth": 2,
            "linecolor": "white",
            "showbackground": true,
            "ticks": "",
            "zerolinecolor": "white"
           },
           "zaxis": {
            "backgroundcolor": "#E5ECF6",
            "gridcolor": "white",
            "gridwidth": 2,
            "linecolor": "white",
            "showbackground": true,
            "ticks": "",
            "zerolinecolor": "white"
           }
          },
          "shapedefaults": {
           "line": {
            "color": "#2a3f5f"
           }
          },
          "ternary": {
           "aaxis": {
            "gridcolor": "white",
            "linecolor": "white",
            "ticks": ""
           },
           "baxis": {
            "gridcolor": "white",
            "linecolor": "white",
            "ticks": ""
           },
           "bgcolor": "#E5ECF6",
           "caxis": {
            "gridcolor": "white",
            "linecolor": "white",
            "ticks": ""
           }
          },
          "title": {
           "x": 0.05
          },
          "xaxis": {
           "automargin": true,
           "gridcolor": "white",
           "linecolor": "white",
           "ticks": "",
           "title": {
            "standoff": 15
           },
           "zerolinecolor": "white",
           "zerolinewidth": 2
          },
          "yaxis": {
           "automargin": true,
           "gridcolor": "white",
           "linecolor": "white",
           "ticks": "",
           "title": {
            "standoff": 15
           },
           "zerolinecolor": "white",
           "zerolinewidth": 2
          }
         }
        }
       }
      }
     },
     "metadata": {}
    }
   ],
   "metadata": {}
  },
  {
   "cell_type": "code",
   "execution_count": 21,
   "source": [
    "#5> Plot a scatter of the total confirmed, total deaths, and death race in different countries\r\n",
    "A = total_confirm.copy()\r\n",
    "A['Deaths'] = total_death['Deaths']\r\n",
    "A['DeathRace'] = (A['Deaths']/ A['Confirmed'] * 100).round(2)\r\n",
    "A"
   ],
   "outputs": [
    {
     "output_type": "execute_result",
     "data": {
      "text/html": [
       "<div>\n",
       "<style scoped>\n",
       "    .dataframe tbody tr th:only-of-type {\n",
       "        vertical-align: middle;\n",
       "    }\n",
       "\n",
       "    .dataframe tbody tr th {\n",
       "        vertical-align: top;\n",
       "    }\n",
       "\n",
       "    .dataframe thead th {\n",
       "        text-align: right;\n",
       "    }\n",
       "</style>\n",
       "<table border=\"1\" class=\"dataframe\">\n",
       "  <thead>\n",
       "    <tr style=\"text-align: right;\">\n",
       "      <th></th>\n",
       "      <th>Date</th>\n",
       "      <th>Country/Region</th>\n",
       "      <th>Confirmed</th>\n",
       "      <th>Deaths</th>\n",
       "      <th>DeathRace</th>\n",
       "    </tr>\n",
       "  </thead>\n",
       "  <tbody>\n",
       "    <tr>\n",
       "      <th>344</th>\n",
       "      <td>31/12/2020</td>\n",
       "      <td>Afghanistan</td>\n",
       "      <td>52330</td>\n",
       "      <td>2189</td>\n",
       "      <td>4.18</td>\n",
       "    </tr>\n",
       "    <tr>\n",
       "      <th>961</th>\n",
       "      <td>31/12/2020</td>\n",
       "      <td>Albania</td>\n",
       "      <td>58316</td>\n",
       "      <td>1181</td>\n",
       "      <td>2.03</td>\n",
       "    </tr>\n",
       "    <tr>\n",
       "      <th>1578</th>\n",
       "      <td>31/12/2020</td>\n",
       "      <td>Algeria</td>\n",
       "      <td>99610</td>\n",
       "      <td>2756</td>\n",
       "      <td>2.77</td>\n",
       "    </tr>\n",
       "    <tr>\n",
       "      <th>2195</th>\n",
       "      <td>31/12/2020</td>\n",
       "      <td>Andorra</td>\n",
       "      <td>8049</td>\n",
       "      <td>84</td>\n",
       "      <td>1.04</td>\n",
       "    </tr>\n",
       "    <tr>\n",
       "      <th>2812</th>\n",
       "      <td>31/12/2020</td>\n",
       "      <td>Angola</td>\n",
       "      <td>17553</td>\n",
       "      <td>405</td>\n",
       "      <td>2.31</td>\n",
       "    </tr>\n",
       "    <tr>\n",
       "      <th>...</th>\n",
       "      <td>...</td>\n",
       "      <td>...</td>\n",
       "      <td>...</td>\n",
       "      <td>...</td>\n",
       "      <td>...</td>\n",
       "    </tr>\n",
       "    <tr>\n",
       "      <th>117574</th>\n",
       "      <td>31/12/2020</td>\n",
       "      <td>Vietnam</td>\n",
       "      <td>1465</td>\n",
       "      <td>35</td>\n",
       "      <td>2.39</td>\n",
       "    </tr>\n",
       "    <tr>\n",
       "      <th>118191</th>\n",
       "      <td>31/12/2020</td>\n",
       "      <td>West Bank and Gaza</td>\n",
       "      <td>138004</td>\n",
       "      <td>1400</td>\n",
       "      <td>1.01</td>\n",
       "    </tr>\n",
       "    <tr>\n",
       "      <th>118808</th>\n",
       "      <td>31/12/2020</td>\n",
       "      <td>Yemen</td>\n",
       "      <td>2099</td>\n",
       "      <td>610</td>\n",
       "      <td>29.06</td>\n",
       "    </tr>\n",
       "    <tr>\n",
       "      <th>119425</th>\n",
       "      <td>31/12/2020</td>\n",
       "      <td>Zambia</td>\n",
       "      <td>20725</td>\n",
       "      <td>388</td>\n",
       "      <td>1.87</td>\n",
       "    </tr>\n",
       "    <tr>\n",
       "      <th>120042</th>\n",
       "      <td>31/12/2020</td>\n",
       "      <td>Zimbabwe</td>\n",
       "      <td>13867</td>\n",
       "      <td>363</td>\n",
       "      <td>2.62</td>\n",
       "    </tr>\n",
       "  </tbody>\n",
       "</table>\n",
       "<p>195 rows × 5 columns</p>\n",
       "</div>"
      ],
      "text/plain": [
       "              Date      Country/Region  Confirmed  Deaths  DeathRace\n",
       "344     31/12/2020         Afghanistan      52330    2189       4.18\n",
       "961     31/12/2020             Albania      58316    1181       2.03\n",
       "1578    31/12/2020             Algeria      99610    2756       2.77\n",
       "2195    31/12/2020             Andorra       8049      84       1.04\n",
       "2812    31/12/2020              Angola      17553     405       2.31\n",
       "...            ...                 ...        ...     ...        ...\n",
       "117574  31/12/2020             Vietnam       1465      35       2.39\n",
       "118191  31/12/2020  West Bank and Gaza     138004    1400       1.01\n",
       "118808  31/12/2020               Yemen       2099     610      29.06\n",
       "119425  31/12/2020              Zambia      20725     388       1.87\n",
       "120042  31/12/2020            Zimbabwe      13867     363       2.62\n",
       "\n",
       "[195 rows x 5 columns]"
      ]
     },
     "metadata": {},
     "execution_count": 21
    }
   ],
   "metadata": {}
  },
  {
   "cell_type": "code",
   "execution_count": 22,
   "source": [
    "fig = px.scatter(\r\n",
    "    A.sort_values(by= 'Confirmed', ascending=False).head(20), \r\n",
    "    x = 'Confirmed', y='Deaths', \r\n",
    "    color='Country/Region', \r\n",
    "    size='DeathRace'\r\n",
    ")\r\n",
    "fig.show()"
   ],
   "outputs": [
    {
     "output_type": "display_data",
     "data": {
      "application/vnd.plotly.v1+json": {
       "config": {
        "plotlyServerURL": "https://plot.ly"
       },
       "data": [
        {
         "hovertemplate": "Country/Region=US<br>Confirmed=%{x}<br>Deaths=%{y}<br>DeathRace=%{marker.size}<extra></extra>",
         "legendgroup": "US",
         "marker": {
          "color": "#636efa",
          "size": [
           1.75
          ],
          "sizemode": "area",
          "sizeref": 0.022925,
          "symbol": "circle"
         },
         "mode": "markers",
         "name": "US",
         "orientation": "v",
         "showlegend": true,
         "type": "scatter",
         "x": [
          20153428
         ],
         "xaxis": "x",
         "y": [
          352001
         ],
         "yaxis": "y"
        },
        {
         "hovertemplate": "Country/Region=India<br>Confirmed=%{x}<br>Deaths=%{y}<br>DeathRace=%{marker.size}<extra></extra>",
         "legendgroup": "India",
         "marker": {
          "color": "#EF553B",
          "size": [
           1.45
          ],
          "sizemode": "area",
          "sizeref": 0.022925,
          "symbol": "circle"
         },
         "mode": "markers",
         "name": "India",
         "orientation": "v",
         "showlegend": true,
         "type": "scatter",
         "x": [
          10286709
         ],
         "xaxis": "x",
         "y": [
          148994
         ],
         "yaxis": "y"
        },
        {
         "hovertemplate": "Country/Region=Brazil<br>Confirmed=%{x}<br>Deaths=%{y}<br>DeathRace=%{marker.size}<extra></extra>",
         "legendgroup": "Brazil",
         "marker": {
          "color": "#00cc96",
          "size": [
           2.54
          ],
          "sizemode": "area",
          "sizeref": 0.022925,
          "symbol": "circle"
         },
         "mode": "markers",
         "name": "Brazil",
         "orientation": "v",
         "showlegend": true,
         "type": "scatter",
         "x": [
          7675973
         ],
         "xaxis": "x",
         "y": [
          194949
         ],
         "yaxis": "y"
        },
        {
         "hovertemplate": "Country/Region=Russia<br>Confirmed=%{x}<br>Deaths=%{y}<br>DeathRace=%{marker.size}<extra></extra>",
         "legendgroup": "Russia",
         "marker": {
          "color": "#ab63fa",
          "size": [
           1.8
          ],
          "sizemode": "area",
          "sizeref": 0.022925,
          "symbol": "circle"
         },
         "mode": "markers",
         "name": "Russia",
         "orientation": "v",
         "showlegend": true,
         "type": "scatter",
         "x": [
          3127347
         ],
         "xaxis": "x",
         "y": [
          56271
         ],
         "yaxis": "y"
        },
        {
         "hovertemplate": "Country/Region=France<br>Confirmed=%{x}<br>Deaths=%{y}<br>DeathRace=%{marker.size}<extra></extra>",
         "legendgroup": "France",
         "marker": {
          "color": "#FFA15A",
          "size": [
           2.42
          ],
          "sizemode": "area",
          "sizeref": 0.022925,
          "symbol": "circle"
         },
         "mode": "markers",
         "name": "France",
         "orientation": "v",
         "showlegend": true,
         "type": "scatter",
         "x": [
          2677660
         ],
         "xaxis": "x",
         "y": [
          64758
         ],
         "yaxis": "y"
        },
        {
         "hovertemplate": "Country/Region=United Kingdom<br>Confirmed=%{x}<br>Deaths=%{y}<br>DeathRace=%{marker.size}<extra></extra>",
         "legendgroup": "United Kingdom",
         "marker": {
          "color": "#19d3f3",
          "size": [
           2.95
          ],
          "sizemode": "area",
          "sizeref": 0.022925,
          "symbol": "circle"
         },
         "mode": "markers",
         "name": "United Kingdom",
         "orientation": "v",
         "showlegend": true,
         "type": "scatter",
         "x": [
          2496235
         ],
         "xaxis": "x",
         "y": [
          73622
         ],
         "yaxis": "y"
        },
        {
         "hovertemplate": "Country/Region=Turkey<br>Confirmed=%{x}<br>Deaths=%{y}<br>DeathRace=%{marker.size}<extra></extra>",
         "legendgroup": "Turkey",
         "marker": {
          "color": "#FF6692",
          "size": [
           0.95
          ],
          "sizemode": "area",
          "sizeref": 0.022925,
          "symbol": "circle"
         },
         "mode": "markers",
         "name": "Turkey",
         "orientation": "v",
         "showlegend": true,
         "type": "scatter",
         "x": [
          2208652
         ],
         "xaxis": "x",
         "y": [
          20881
         ],
         "yaxis": "y"
        },
        {
         "hovertemplate": "Country/Region=Italy<br>Confirmed=%{x}<br>Deaths=%{y}<br>DeathRace=%{marker.size}<extra></extra>",
         "legendgroup": "Italy",
         "marker": {
          "color": "#B6E880",
          "size": [
           3.52
          ],
          "sizemode": "area",
          "sizeref": 0.022925,
          "symbol": "circle"
         },
         "mode": "markers",
         "name": "Italy",
         "orientation": "v",
         "showlegend": true,
         "type": "scatter",
         "x": [
          2107166
         ],
         "xaxis": "x",
         "y": [
          74159
         ],
         "yaxis": "y"
        },
        {
         "hovertemplate": "Country/Region=Spain<br>Confirmed=%{x}<br>Deaths=%{y}<br>DeathRace=%{marker.size}<extra></extra>",
         "legendgroup": "Spain",
         "marker": {
          "color": "#FF97FF",
          "size": [
           2.64
          ],
          "sizemode": "area",
          "sizeref": 0.022925,
          "symbol": "circle"
         },
         "mode": "markers",
         "name": "Spain",
         "orientation": "v",
         "showlegend": true,
         "type": "scatter",
         "x": [
          1928265
         ],
         "xaxis": "x",
         "y": [
          50837
         ],
         "yaxis": "y"
        },
        {
         "hovertemplate": "Country/Region=Germany<br>Confirmed=%{x}<br>Deaths=%{y}<br>DeathRace=%{marker.size}<extra></extra>",
         "legendgroup": "Germany",
         "marker": {
          "color": "#FECB52",
          "size": [
           1.92
          ],
          "sizemode": "area",
          "sizeref": 0.022925,
          "symbol": "circle"
         },
         "mode": "markers",
         "name": "Germany",
         "orientation": "v",
         "showlegend": true,
         "type": "scatter",
         "x": [
          1760520
         ],
         "xaxis": "x",
         "y": [
          33791
         ],
         "yaxis": "y"
        },
        {
         "hovertemplate": "Country/Region=Colombia<br>Confirmed=%{x}<br>Deaths=%{y}<br>DeathRace=%{marker.size}<extra></extra>",
         "legendgroup": "Colombia",
         "marker": {
          "color": "#636efa",
          "size": [
           2.63
          ],
          "sizemode": "area",
          "sizeref": 0.022925,
          "symbol": "circle"
         },
         "mode": "markers",
         "name": "Colombia",
         "orientation": "v",
         "showlegend": true,
         "type": "scatter",
         "x": [
          1642775
         ],
         "xaxis": "x",
         "y": [
          43213
         ],
         "yaxis": "y"
        },
        {
         "hovertemplate": "Country/Region=Argentina<br>Confirmed=%{x}<br>Deaths=%{y}<br>DeathRace=%{marker.size}<extra></extra>",
         "legendgroup": "Argentina",
         "marker": {
          "color": "#EF553B",
          "size": [
           2.66
          ],
          "sizemode": "area",
          "sizeref": 0.022925,
          "symbol": "circle"
         },
         "mode": "markers",
         "name": "Argentina",
         "orientation": "v",
         "showlegend": true,
         "type": "scatter",
         "x": [
          1625514
         ],
         "xaxis": "x",
         "y": [
          43245
         ],
         "yaxis": "y"
        },
        {
         "hovertemplate": "Country/Region=Mexico<br>Confirmed=%{x}<br>Deaths=%{y}<br>DeathRace=%{marker.size}<extra></extra>",
         "legendgroup": "Mexico",
         "marker": {
          "color": "#00cc96",
          "size": [
           8.82
          ],
          "sizemode": "area",
          "sizeref": 0.022925,
          "symbol": "circle"
         },
         "mode": "markers",
         "name": "Mexico",
         "orientation": "v",
         "showlegend": true,
         "type": "scatter",
         "x": [
          1426094
         ],
         "xaxis": "x",
         "y": [
          125807
         ],
         "yaxis": "y"
        },
        {
         "hovertemplate": "Country/Region=Poland<br>Confirmed=%{x}<br>Deaths=%{y}<br>DeathRace=%{marker.size}<extra></extra>",
         "legendgroup": "Poland",
         "marker": {
          "color": "#ab63fa",
          "size": [
           2.21
          ],
          "sizemode": "area",
          "sizeref": 0.022925,
          "symbol": "circle"
         },
         "mode": "markers",
         "name": "Poland",
         "orientation": "v",
         "showlegend": true,
         "type": "scatter",
         "x": [
          1294878
         ],
         "xaxis": "x",
         "y": [
          28554
         ],
         "yaxis": "y"
        },
        {
         "hovertemplate": "Country/Region=Iran<br>Confirmed=%{x}<br>Deaths=%{y}<br>DeathRace=%{marker.size}<extra></extra>",
         "legendgroup": "Iran",
         "marker": {
          "color": "#FFA15A",
          "size": [
           4.51
          ],
          "sizemode": "area",
          "sizeref": 0.022925,
          "symbol": "circle"
         },
         "mode": "markers",
         "name": "Iran",
         "orientation": "v",
         "showlegend": true,
         "type": "scatter",
         "x": [
          1225142
         ],
         "xaxis": "x",
         "y": [
          55223
         ],
         "yaxis": "y"
        },
        {
         "hovertemplate": "Country/Region=Ukraine<br>Confirmed=%{x}<br>Deaths=%{y}<br>DeathRace=%{marker.size}<extra></extra>",
         "legendgroup": "Ukraine",
         "marker": {
          "color": "#19d3f3",
          "size": [
           1.77
          ],
          "sizemode": "area",
          "sizeref": 0.022925,
          "symbol": "circle"
         },
         "mode": "markers",
         "name": "Ukraine",
         "orientation": "v",
         "showlegend": true,
         "type": "scatter",
         "x": [
          1086997
         ],
         "xaxis": "x",
         "y": [
          19281
         ],
         "yaxis": "y"
        },
        {
         "hovertemplate": "Country/Region=South Africa<br>Confirmed=%{x}<br>Deaths=%{y}<br>DeathRace=%{marker.size}<extra></extra>",
         "legendgroup": "South Africa",
         "marker": {
          "color": "#FF6692",
          "size": [
           2.69
          ],
          "sizemode": "area",
          "sizeref": 0.022925,
          "symbol": "circle"
         },
         "mode": "markers",
         "name": "South Africa",
         "orientation": "v",
         "showlegend": true,
         "type": "scatter",
         "x": [
          1057161
         ],
         "xaxis": "x",
         "y": [
          28469
         ],
         "yaxis": "y"
        },
        {
         "hovertemplate": "Country/Region=Peru<br>Confirmed=%{x}<br>Deaths=%{y}<br>DeathRace=%{marker.size}<extra></extra>",
         "legendgroup": "Peru",
         "marker": {
          "color": "#B6E880",
          "size": [
           9.17
          ],
          "sizemode": "area",
          "sizeref": 0.022925,
          "symbol": "circle"
         },
         "mode": "markers",
         "name": "Peru",
         "orientation": "v",
         "showlegend": true,
         "type": "scatter",
         "x": [
          1015137
         ],
         "xaxis": "x",
         "y": [
          93070
         ],
         "yaxis": "y"
        },
        {
         "hovertemplate": "Country/Region=Netherlands<br>Confirmed=%{x}<br>Deaths=%{y}<br>DeathRace=%{marker.size}<extra></extra>",
         "legendgroup": "Netherlands",
         "marker": {
          "color": "#FF97FF",
          "size": [
           1.43
          ],
          "sizemode": "area",
          "sizeref": 0.022925,
          "symbol": "circle"
         },
         "mode": "markers",
         "name": "Netherlands",
         "orientation": "v",
         "showlegend": true,
         "type": "scatter",
         "x": [
          808382
         ],
         "xaxis": "x",
         "y": [
          11525
         ],
         "yaxis": "y"
        },
        {
         "hovertemplate": "Country/Region=Indonesia<br>Confirmed=%{x}<br>Deaths=%{y}<br>DeathRace=%{marker.size}<extra></extra>",
         "legendgroup": "Indonesia",
         "marker": {
          "color": "#FECB52",
          "size": [
           2.98
          ],
          "sizemode": "area",
          "sizeref": 0.022925,
          "symbol": "circle"
         },
         "mode": "markers",
         "name": "Indonesia",
         "orientation": "v",
         "showlegend": true,
         "type": "scatter",
         "x": [
          743198
         ],
         "xaxis": "x",
         "y": [
          22138
         ],
         "yaxis": "y"
        }
       ],
       "layout": {
        "legend": {
         "itemsizing": "constant",
         "title": {
          "text": "Country/Region"
         },
         "tracegroupgap": 0
        },
        "margin": {
         "t": 60
        },
        "template": {
         "data": {
          "bar": [
           {
            "error_x": {
             "color": "#2a3f5f"
            },
            "error_y": {
             "color": "#2a3f5f"
            },
            "marker": {
             "line": {
              "color": "#E5ECF6",
              "width": 0.5
             },
             "pattern": {
              "fillmode": "overlay",
              "size": 10,
              "solidity": 0.2
             }
            },
            "type": "bar"
           }
          ],
          "barpolar": [
           {
            "marker": {
             "line": {
              "color": "#E5ECF6",
              "width": 0.5
             },
             "pattern": {
              "fillmode": "overlay",
              "size": 10,
              "solidity": 0.2
             }
            },
            "type": "barpolar"
           }
          ],
          "carpet": [
           {
            "aaxis": {
             "endlinecolor": "#2a3f5f",
             "gridcolor": "white",
             "linecolor": "white",
             "minorgridcolor": "white",
             "startlinecolor": "#2a3f5f"
            },
            "baxis": {
             "endlinecolor": "#2a3f5f",
             "gridcolor": "white",
             "linecolor": "white",
             "minorgridcolor": "white",
             "startlinecolor": "#2a3f5f"
            },
            "type": "carpet"
           }
          ],
          "choropleth": [
           {
            "colorbar": {
             "outlinewidth": 0,
             "ticks": ""
            },
            "type": "choropleth"
           }
          ],
          "contour": [
           {
            "colorbar": {
             "outlinewidth": 0,
             "ticks": ""
            },
            "colorscale": [
             [
              0,
              "#0d0887"
             ],
             [
              0.1111111111111111,
              "#46039f"
             ],
             [
              0.2222222222222222,
              "#7201a8"
             ],
             [
              0.3333333333333333,
              "#9c179e"
             ],
             [
              0.4444444444444444,
              "#bd3786"
             ],
             [
              0.5555555555555556,
              "#d8576b"
             ],
             [
              0.6666666666666666,
              "#ed7953"
             ],
             [
              0.7777777777777778,
              "#fb9f3a"
             ],
             [
              0.8888888888888888,
              "#fdca26"
             ],
             [
              1,
              "#f0f921"
             ]
            ],
            "type": "contour"
           }
          ],
          "contourcarpet": [
           {
            "colorbar": {
             "outlinewidth": 0,
             "ticks": ""
            },
            "type": "contourcarpet"
           }
          ],
          "heatmap": [
           {
            "colorbar": {
             "outlinewidth": 0,
             "ticks": ""
            },
            "colorscale": [
             [
              0,
              "#0d0887"
             ],
             [
              0.1111111111111111,
              "#46039f"
             ],
             [
              0.2222222222222222,
              "#7201a8"
             ],
             [
              0.3333333333333333,
              "#9c179e"
             ],
             [
              0.4444444444444444,
              "#bd3786"
             ],
             [
              0.5555555555555556,
              "#d8576b"
             ],
             [
              0.6666666666666666,
              "#ed7953"
             ],
             [
              0.7777777777777778,
              "#fb9f3a"
             ],
             [
              0.8888888888888888,
              "#fdca26"
             ],
             [
              1,
              "#f0f921"
             ]
            ],
            "type": "heatmap"
           }
          ],
          "heatmapgl": [
           {
            "colorbar": {
             "outlinewidth": 0,
             "ticks": ""
            },
            "colorscale": [
             [
              0,
              "#0d0887"
             ],
             [
              0.1111111111111111,
              "#46039f"
             ],
             [
              0.2222222222222222,
              "#7201a8"
             ],
             [
              0.3333333333333333,
              "#9c179e"
             ],
             [
              0.4444444444444444,
              "#bd3786"
             ],
             [
              0.5555555555555556,
              "#d8576b"
             ],
             [
              0.6666666666666666,
              "#ed7953"
             ],
             [
              0.7777777777777778,
              "#fb9f3a"
             ],
             [
              0.8888888888888888,
              "#fdca26"
             ],
             [
              1,
              "#f0f921"
             ]
            ],
            "type": "heatmapgl"
           }
          ],
          "histogram": [
           {
            "marker": {
             "pattern": {
              "fillmode": "overlay",
              "size": 10,
              "solidity": 0.2
             }
            },
            "type": "histogram"
           }
          ],
          "histogram2d": [
           {
            "colorbar": {
             "outlinewidth": 0,
             "ticks": ""
            },
            "colorscale": [
             [
              0,
              "#0d0887"
             ],
             [
              0.1111111111111111,
              "#46039f"
             ],
             [
              0.2222222222222222,
              "#7201a8"
             ],
             [
              0.3333333333333333,
              "#9c179e"
             ],
             [
              0.4444444444444444,
              "#bd3786"
             ],
             [
              0.5555555555555556,
              "#d8576b"
             ],
             [
              0.6666666666666666,
              "#ed7953"
             ],
             [
              0.7777777777777778,
              "#fb9f3a"
             ],
             [
              0.8888888888888888,
              "#fdca26"
             ],
             [
              1,
              "#f0f921"
             ]
            ],
            "type": "histogram2d"
           }
          ],
          "histogram2dcontour": [
           {
            "colorbar": {
             "outlinewidth": 0,
             "ticks": ""
            },
            "colorscale": [
             [
              0,
              "#0d0887"
             ],
             [
              0.1111111111111111,
              "#46039f"
             ],
             [
              0.2222222222222222,
              "#7201a8"
             ],
             [
              0.3333333333333333,
              "#9c179e"
             ],
             [
              0.4444444444444444,
              "#bd3786"
             ],
             [
              0.5555555555555556,
              "#d8576b"
             ],
             [
              0.6666666666666666,
              "#ed7953"
             ],
             [
              0.7777777777777778,
              "#fb9f3a"
             ],
             [
              0.8888888888888888,
              "#fdca26"
             ],
             [
              1,
              "#f0f921"
             ]
            ],
            "type": "histogram2dcontour"
           }
          ],
          "mesh3d": [
           {
            "colorbar": {
             "outlinewidth": 0,
             "ticks": ""
            },
            "type": "mesh3d"
           }
          ],
          "parcoords": [
           {
            "line": {
             "colorbar": {
              "outlinewidth": 0,
              "ticks": ""
             }
            },
            "type": "parcoords"
           }
          ],
          "pie": [
           {
            "automargin": true,
            "type": "pie"
           }
          ],
          "scatter": [
           {
            "marker": {
             "colorbar": {
              "outlinewidth": 0,
              "ticks": ""
             }
            },
            "type": "scatter"
           }
          ],
          "scatter3d": [
           {
            "line": {
             "colorbar": {
              "outlinewidth": 0,
              "ticks": ""
             }
            },
            "marker": {
             "colorbar": {
              "outlinewidth": 0,
              "ticks": ""
             }
            },
            "type": "scatter3d"
           }
          ],
          "scattercarpet": [
           {
            "marker": {
             "colorbar": {
              "outlinewidth": 0,
              "ticks": ""
             }
            },
            "type": "scattercarpet"
           }
          ],
          "scattergeo": [
           {
            "marker": {
             "colorbar": {
              "outlinewidth": 0,
              "ticks": ""
             }
            },
            "type": "scattergeo"
           }
          ],
          "scattergl": [
           {
            "marker": {
             "colorbar": {
              "outlinewidth": 0,
              "ticks": ""
             }
            },
            "type": "scattergl"
           }
          ],
          "scattermapbox": [
           {
            "marker": {
             "colorbar": {
              "outlinewidth": 0,
              "ticks": ""
             }
            },
            "type": "scattermapbox"
           }
          ],
          "scatterpolar": [
           {
            "marker": {
             "colorbar": {
              "outlinewidth": 0,
              "ticks": ""
             }
            },
            "type": "scatterpolar"
           }
          ],
          "scatterpolargl": [
           {
            "marker": {
             "colorbar": {
              "outlinewidth": 0,
              "ticks": ""
             }
            },
            "type": "scatterpolargl"
           }
          ],
          "scatterternary": [
           {
            "marker": {
             "colorbar": {
              "outlinewidth": 0,
              "ticks": ""
             }
            },
            "type": "scatterternary"
           }
          ],
          "surface": [
           {
            "colorbar": {
             "outlinewidth": 0,
             "ticks": ""
            },
            "colorscale": [
             [
              0,
              "#0d0887"
             ],
             [
              0.1111111111111111,
              "#46039f"
             ],
             [
              0.2222222222222222,
              "#7201a8"
             ],
             [
              0.3333333333333333,
              "#9c179e"
             ],
             [
              0.4444444444444444,
              "#bd3786"
             ],
             [
              0.5555555555555556,
              "#d8576b"
             ],
             [
              0.6666666666666666,
              "#ed7953"
             ],
             [
              0.7777777777777778,
              "#fb9f3a"
             ],
             [
              0.8888888888888888,
              "#fdca26"
             ],
             [
              1,
              "#f0f921"
             ]
            ],
            "type": "surface"
           }
          ],
          "table": [
           {
            "cells": {
             "fill": {
              "color": "#EBF0F8"
             },
             "line": {
              "color": "white"
             }
            },
            "header": {
             "fill": {
              "color": "#C8D4E3"
             },
             "line": {
              "color": "white"
             }
            },
            "type": "table"
           }
          ]
         },
         "layout": {
          "annotationdefaults": {
           "arrowcolor": "#2a3f5f",
           "arrowhead": 0,
           "arrowwidth": 1
          },
          "autotypenumbers": "strict",
          "coloraxis": {
           "colorbar": {
            "outlinewidth": 0,
            "ticks": ""
           }
          },
          "colorscale": {
           "diverging": [
            [
             0,
             "#8e0152"
            ],
            [
             0.1,
             "#c51b7d"
            ],
            [
             0.2,
             "#de77ae"
            ],
            [
             0.3,
             "#f1b6da"
            ],
            [
             0.4,
             "#fde0ef"
            ],
            [
             0.5,
             "#f7f7f7"
            ],
            [
             0.6,
             "#e6f5d0"
            ],
            [
             0.7,
             "#b8e186"
            ],
            [
             0.8,
             "#7fbc41"
            ],
            [
             0.9,
             "#4d9221"
            ],
            [
             1,
             "#276419"
            ]
           ],
           "sequential": [
            [
             0,
             "#0d0887"
            ],
            [
             0.1111111111111111,
             "#46039f"
            ],
            [
             0.2222222222222222,
             "#7201a8"
            ],
            [
             0.3333333333333333,
             "#9c179e"
            ],
            [
             0.4444444444444444,
             "#bd3786"
            ],
            [
             0.5555555555555556,
             "#d8576b"
            ],
            [
             0.6666666666666666,
             "#ed7953"
            ],
            [
             0.7777777777777778,
             "#fb9f3a"
            ],
            [
             0.8888888888888888,
             "#fdca26"
            ],
            [
             1,
             "#f0f921"
            ]
           ],
           "sequentialminus": [
            [
             0,
             "#0d0887"
            ],
            [
             0.1111111111111111,
             "#46039f"
            ],
            [
             0.2222222222222222,
             "#7201a8"
            ],
            [
             0.3333333333333333,
             "#9c179e"
            ],
            [
             0.4444444444444444,
             "#bd3786"
            ],
            [
             0.5555555555555556,
             "#d8576b"
            ],
            [
             0.6666666666666666,
             "#ed7953"
            ],
            [
             0.7777777777777778,
             "#fb9f3a"
            ],
            [
             0.8888888888888888,
             "#fdca26"
            ],
            [
             1,
             "#f0f921"
            ]
           ]
          },
          "colorway": [
           "#636efa",
           "#EF553B",
           "#00cc96",
           "#ab63fa",
           "#FFA15A",
           "#19d3f3",
           "#FF6692",
           "#B6E880",
           "#FF97FF",
           "#FECB52"
          ],
          "font": {
           "color": "#2a3f5f"
          },
          "geo": {
           "bgcolor": "white",
           "lakecolor": "white",
           "landcolor": "#E5ECF6",
           "showlakes": true,
           "showland": true,
           "subunitcolor": "white"
          },
          "hoverlabel": {
           "align": "left"
          },
          "hovermode": "closest",
          "mapbox": {
           "style": "light"
          },
          "paper_bgcolor": "white",
          "plot_bgcolor": "#E5ECF6",
          "polar": {
           "angularaxis": {
            "gridcolor": "white",
            "linecolor": "white",
            "ticks": ""
           },
           "bgcolor": "#E5ECF6",
           "radialaxis": {
            "gridcolor": "white",
            "linecolor": "white",
            "ticks": ""
           }
          },
          "scene": {
           "xaxis": {
            "backgroundcolor": "#E5ECF6",
            "gridcolor": "white",
            "gridwidth": 2,
            "linecolor": "white",
            "showbackground": true,
            "ticks": "",
            "zerolinecolor": "white"
           },
           "yaxis": {
            "backgroundcolor": "#E5ECF6",
            "gridcolor": "white",
            "gridwidth": 2,
            "linecolor": "white",
            "showbackground": true,
            "ticks": "",
            "zerolinecolor": "white"
           },
           "zaxis": {
            "backgroundcolor": "#E5ECF6",
            "gridcolor": "white",
            "gridwidth": 2,
            "linecolor": "white",
            "showbackground": true,
            "ticks": "",
            "zerolinecolor": "white"
           }
          },
          "shapedefaults": {
           "line": {
            "color": "#2a3f5f"
           }
          },
          "ternary": {
           "aaxis": {
            "gridcolor": "white",
            "linecolor": "white",
            "ticks": ""
           },
           "baxis": {
            "gridcolor": "white",
            "linecolor": "white",
            "ticks": ""
           },
           "bgcolor": "#E5ECF6",
           "caxis": {
            "gridcolor": "white",
            "linecolor": "white",
            "ticks": ""
           }
          },
          "title": {
           "x": 0.05
          },
          "xaxis": {
           "automargin": true,
           "gridcolor": "white",
           "linecolor": "white",
           "ticks": "",
           "title": {
            "standoff": 15
           },
           "zerolinecolor": "white",
           "zerolinewidth": 2
          },
          "yaxis": {
           "automargin": true,
           "gridcolor": "white",
           "linecolor": "white",
           "ticks": "",
           "title": {
            "standoff": 15
           },
           "zerolinecolor": "white",
           "zerolinewidth": 2
          }
         }
        },
        "xaxis": {
         "anchor": "y",
         "domain": [
          0,
          1
         ],
         "title": {
          "text": "Confirmed"
         }
        },
        "yaxis": {
         "anchor": "x",
         "domain": [
          0,
          1
         ],
         "title": {
          "text": "Deaths"
         }
        }
       }
      }
     },
     "metadata": {}
    }
   ],
   "metadata": {}
  },
  {
   "cell_type": "code",
   "execution_count": 23,
   "source": [
    "#6>create a graph of the combination(line + bar chart) of the total number of deaths and the level of deaths by country.\r\n",
    "B = A.copy()\r\n",
    "B = B.sort_values(by= 'Deaths', ascending=False).head(20)\r\n",
    "B"
   ],
   "outputs": [
    {
     "output_type": "execute_result",
     "data": {
      "text/html": [
       "<div>\n",
       "<style scoped>\n",
       "    .dataframe tbody tr th:only-of-type {\n",
       "        vertical-align: middle;\n",
       "    }\n",
       "\n",
       "    .dataframe tbody tr th {\n",
       "        vertical-align: top;\n",
       "    }\n",
       "\n",
       "    .dataframe thead th {\n",
       "        text-align: right;\n",
       "    }\n",
       "</style>\n",
       "<table border=\"1\" class=\"dataframe\">\n",
       "  <thead>\n",
       "    <tr style=\"text-align: right;\">\n",
       "      <th></th>\n",
       "      <th>Date</th>\n",
       "      <th>Country/Region</th>\n",
       "      <th>Confirmed</th>\n",
       "      <th>Deaths</th>\n",
       "      <th>DeathRace</th>\n",
       "    </tr>\n",
       "  </thead>\n",
       "  <tbody>\n",
       "    <tr>\n",
       "      <th>112021</th>\n",
       "      <td>31/12/2020</td>\n",
       "      <td>US</td>\n",
       "      <td>20153428</td>\n",
       "      <td>352001</td>\n",
       "      <td>1.75</td>\n",
       "    </tr>\n",
       "    <tr>\n",
       "      <th>14535</th>\n",
       "      <td>31/12/2020</td>\n",
       "      <td>Brazil</td>\n",
       "      <td>7675973</td>\n",
       "      <td>194949</td>\n",
       "      <td>2.54</td>\n",
       "    </tr>\n",
       "    <tr>\n",
       "      <th>49087</th>\n",
       "      <td>31/12/2020</td>\n",
       "      <td>India</td>\n",
       "      <td>10286709</td>\n",
       "      <td>148994</td>\n",
       "      <td>1.45</td>\n",
       "    </tr>\n",
       "    <tr>\n",
       "      <th>71299</th>\n",
       "      <td>31/12/2020</td>\n",
       "      <td>Mexico</td>\n",
       "      <td>1426094</td>\n",
       "      <td>125807</td>\n",
       "      <td>8.82</td>\n",
       "    </tr>\n",
       "    <tr>\n",
       "      <th>85490</th>\n",
       "      <td>31/12/2020</td>\n",
       "      <td>Peru</td>\n",
       "      <td>1015137</td>\n",
       "      <td>93070</td>\n",
       "      <td>9.17</td>\n",
       "    </tr>\n",
       "    <tr>\n",
       "      <th>52789</th>\n",
       "      <td>31/12/2020</td>\n",
       "      <td>Italy</td>\n",
       "      <td>2107166</td>\n",
       "      <td>74159</td>\n",
       "      <td>3.52</td>\n",
       "    </tr>\n",
       "    <tr>\n",
       "      <th>114489</th>\n",
       "      <td>31/12/2020</td>\n",
       "      <td>United Kingdom</td>\n",
       "      <td>2496235</td>\n",
       "      <td>73622</td>\n",
       "      <td>2.95</td>\n",
       "    </tr>\n",
       "    <tr>\n",
       "      <th>38598</th>\n",
       "      <td>31/12/2020</td>\n",
       "      <td>France</td>\n",
       "      <td>2677660</td>\n",
       "      <td>64758</td>\n",
       "      <td>2.42</td>\n",
       "    </tr>\n",
       "    <tr>\n",
       "      <th>89192</th>\n",
       "      <td>31/12/2020</td>\n",
       "      <td>Russia</td>\n",
       "      <td>3127347</td>\n",
       "      <td>56271</td>\n",
       "      <td>1.80</td>\n",
       "    </tr>\n",
       "    <tr>\n",
       "      <th>50321</th>\n",
       "      <td>31/12/2020</td>\n",
       "      <td>Iran</td>\n",
       "      <td>1225142</td>\n",
       "      <td>55223</td>\n",
       "      <td>4.51</td>\n",
       "    </tr>\n",
       "    <tr>\n",
       "      <th>101532</th>\n",
       "      <td>31/12/2020</td>\n",
       "      <td>Spain</td>\n",
       "      <td>1928265</td>\n",
       "      <td>50837</td>\n",
       "      <td>2.64</td>\n",
       "    </tr>\n",
       "    <tr>\n",
       "      <th>4046</th>\n",
       "      <td>31/12/2020</td>\n",
       "      <td>Argentina</td>\n",
       "      <td>1625514</td>\n",
       "      <td>43245</td>\n",
       "      <td>2.66</td>\n",
       "    </tr>\n",
       "    <tr>\n",
       "      <th>23173</th>\n",
       "      <td>31/12/2020</td>\n",
       "      <td>Colombia</td>\n",
       "      <td>1642775</td>\n",
       "      <td>43213</td>\n",
       "      <td>2.63</td>\n",
       "    </tr>\n",
       "    <tr>\n",
       "      <th>41066</th>\n",
       "      <td>31/12/2020</td>\n",
       "      <td>Germany</td>\n",
       "      <td>1760520</td>\n",
       "      <td>33791</td>\n",
       "      <td>1.92</td>\n",
       "    </tr>\n",
       "    <tr>\n",
       "      <th>86724</th>\n",
       "      <td>31/12/2020</td>\n",
       "      <td>Poland</td>\n",
       "      <td>1294878</td>\n",
       "      <td>28554</td>\n",
       "      <td>2.21</td>\n",
       "    </tr>\n",
       "    <tr>\n",
       "      <th>100298</th>\n",
       "      <td>31/12/2020</td>\n",
       "      <td>South Africa</td>\n",
       "      <td>1057161</td>\n",
       "      <td>28469</td>\n",
       "      <td>2.69</td>\n",
       "    </tr>\n",
       "    <tr>\n",
       "      <th>49704</th>\n",
       "      <td>31/12/2020</td>\n",
       "      <td>Indonesia</td>\n",
       "      <td>743198</td>\n",
       "      <td>22138</td>\n",
       "      <td>2.98</td>\n",
       "    </tr>\n",
       "    <tr>\n",
       "      <th>111404</th>\n",
       "      <td>31/12/2020</td>\n",
       "      <td>Turkey</td>\n",
       "      <td>2208652</td>\n",
       "      <td>20881</td>\n",
       "      <td>0.95</td>\n",
       "    </tr>\n",
       "    <tr>\n",
       "      <th>10216</th>\n",
       "      <td>31/12/2020</td>\n",
       "      <td>Belgium</td>\n",
       "      <td>646496</td>\n",
       "      <td>19528</td>\n",
       "      <td>3.02</td>\n",
       "    </tr>\n",
       "    <tr>\n",
       "      <th>113255</th>\n",
       "      <td>31/12/2020</td>\n",
       "      <td>Ukraine</td>\n",
       "      <td>1086997</td>\n",
       "      <td>19281</td>\n",
       "      <td>1.77</td>\n",
       "    </tr>\n",
       "  </tbody>\n",
       "</table>\n",
       "</div>"
      ],
      "text/plain": [
       "              Date  Country/Region  Confirmed  Deaths  DeathRace\n",
       "112021  31/12/2020              US   20153428  352001       1.75\n",
       "14535   31/12/2020          Brazil    7675973  194949       2.54\n",
       "49087   31/12/2020           India   10286709  148994       1.45\n",
       "71299   31/12/2020          Mexico    1426094  125807       8.82\n",
       "85490   31/12/2020            Peru    1015137   93070       9.17\n",
       "52789   31/12/2020           Italy    2107166   74159       3.52\n",
       "114489  31/12/2020  United Kingdom    2496235   73622       2.95\n",
       "38598   31/12/2020          France    2677660   64758       2.42\n",
       "89192   31/12/2020          Russia    3127347   56271       1.80\n",
       "50321   31/12/2020            Iran    1225142   55223       4.51\n",
       "101532  31/12/2020           Spain    1928265   50837       2.64\n",
       "4046    31/12/2020       Argentina    1625514   43245       2.66\n",
       "23173   31/12/2020        Colombia    1642775   43213       2.63\n",
       "41066   31/12/2020         Germany    1760520   33791       1.92\n",
       "86724   31/12/2020          Poland    1294878   28554       2.21\n",
       "100298  31/12/2020    South Africa    1057161   28469       2.69\n",
       "49704   31/12/2020       Indonesia     743198   22138       2.98\n",
       "111404  31/12/2020          Turkey    2208652   20881       0.95\n",
       "10216   31/12/2020         Belgium     646496   19528       3.02\n",
       "113255  31/12/2020         Ukraine    1086997   19281       1.77"
      ]
     },
     "metadata": {},
     "execution_count": 23
    }
   ],
   "metadata": {}
  },
  {
   "cell_type": "code",
   "execution_count": 24,
   "source": [
    "fig = make_subplots(specs=[[{'secondary_y' : True}]])\r\n",
    "fig.add_trace(go.Bar(\r\n",
    "    x = B['Country/Region'], y = B['Deaths'], text= B['Deaths'], name = 'Deaths', textposition = 'auto'\r\n",
    "), secondary_y=False)\r\n",
    "\r\n",
    "fig.add_trace(go.Scatter(\r\n",
    "    x = B['Country/Region'], y = B['DeathRace'], text= B['DeathRace'], name = 'Death Race', mode = 'markers + lines'\r\n",
    "), secondary_y=True)\r\n",
    "\r\n",
    "\r\n",
    "fig.show()"
   ],
   "outputs": [
    {
     "output_type": "display_data",
     "data": {
      "application/vnd.plotly.v1+json": {
       "config": {
        "plotlyServerURL": "https://plot.ly"
       },
       "data": [
        {
         "name": "Deaths",
         "text": [
          "352001",
          "194949",
          "148994",
          "125807",
          "93070",
          "74159",
          "73622",
          "64758",
          "56271",
          "55223",
          "50837",
          "43245",
          "43213",
          "33791",
          "28554",
          "28469",
          "22138",
          "20881",
          "19528",
          "19281"
         ],
         "textposition": "auto",
         "type": "bar",
         "x": [
          "US",
          "Brazil",
          "India",
          "Mexico",
          "Peru",
          "Italy",
          "United Kingdom",
          "France",
          "Russia",
          "Iran",
          "Spain",
          "Argentina",
          "Colombia",
          "Germany",
          "Poland",
          "South Africa",
          "Indonesia",
          "Turkey",
          "Belgium",
          "Ukraine"
         ],
         "xaxis": "x",
         "y": [
          352001,
          194949,
          148994,
          125807,
          93070,
          74159,
          73622,
          64758,
          56271,
          55223,
          50837,
          43245,
          43213,
          33791,
          28554,
          28469,
          22138,
          20881,
          19528,
          19281
         ],
         "yaxis": "y"
        },
        {
         "mode": "markers+lines",
         "name": "Death Race",
         "text": [
          "1.75",
          "2.54",
          "1.45",
          "8.82",
          "9.17",
          "3.52",
          "2.95",
          "2.42",
          "1.8",
          "4.51",
          "2.64",
          "2.66",
          "2.63",
          "1.92",
          "2.21",
          "2.69",
          "2.98",
          "0.95",
          "3.02",
          "1.77"
         ],
         "type": "scatter",
         "x": [
          "US",
          "Brazil",
          "India",
          "Mexico",
          "Peru",
          "Italy",
          "United Kingdom",
          "France",
          "Russia",
          "Iran",
          "Spain",
          "Argentina",
          "Colombia",
          "Germany",
          "Poland",
          "South Africa",
          "Indonesia",
          "Turkey",
          "Belgium",
          "Ukraine"
         ],
         "xaxis": "x",
         "y": [
          1.75,
          2.54,
          1.45,
          8.82,
          9.17,
          3.52,
          2.95,
          2.42,
          1.8,
          4.51,
          2.64,
          2.66,
          2.63,
          1.92,
          2.21,
          2.69,
          2.98,
          0.95,
          3.02,
          1.77
         ],
         "yaxis": "y2"
        }
       ],
       "layout": {
        "template": {
         "data": {
          "bar": [
           {
            "error_x": {
             "color": "#2a3f5f"
            },
            "error_y": {
             "color": "#2a3f5f"
            },
            "marker": {
             "line": {
              "color": "#E5ECF6",
              "width": 0.5
             },
             "pattern": {
              "fillmode": "overlay",
              "size": 10,
              "solidity": 0.2
             }
            },
            "type": "bar"
           }
          ],
          "barpolar": [
           {
            "marker": {
             "line": {
              "color": "#E5ECF6",
              "width": 0.5
             },
             "pattern": {
              "fillmode": "overlay",
              "size": 10,
              "solidity": 0.2
             }
            },
            "type": "barpolar"
           }
          ],
          "carpet": [
           {
            "aaxis": {
             "endlinecolor": "#2a3f5f",
             "gridcolor": "white",
             "linecolor": "white",
             "minorgridcolor": "white",
             "startlinecolor": "#2a3f5f"
            },
            "baxis": {
             "endlinecolor": "#2a3f5f",
             "gridcolor": "white",
             "linecolor": "white",
             "minorgridcolor": "white",
             "startlinecolor": "#2a3f5f"
            },
            "type": "carpet"
           }
          ],
          "choropleth": [
           {
            "colorbar": {
             "outlinewidth": 0,
             "ticks": ""
            },
            "type": "choropleth"
           }
          ],
          "contour": [
           {
            "colorbar": {
             "outlinewidth": 0,
             "ticks": ""
            },
            "colorscale": [
             [
              0,
              "#0d0887"
             ],
             [
              0.1111111111111111,
              "#46039f"
             ],
             [
              0.2222222222222222,
              "#7201a8"
             ],
             [
              0.3333333333333333,
              "#9c179e"
             ],
             [
              0.4444444444444444,
              "#bd3786"
             ],
             [
              0.5555555555555556,
              "#d8576b"
             ],
             [
              0.6666666666666666,
              "#ed7953"
             ],
             [
              0.7777777777777778,
              "#fb9f3a"
             ],
             [
              0.8888888888888888,
              "#fdca26"
             ],
             [
              1,
              "#f0f921"
             ]
            ],
            "type": "contour"
           }
          ],
          "contourcarpet": [
           {
            "colorbar": {
             "outlinewidth": 0,
             "ticks": ""
            },
            "type": "contourcarpet"
           }
          ],
          "heatmap": [
           {
            "colorbar": {
             "outlinewidth": 0,
             "ticks": ""
            },
            "colorscale": [
             [
              0,
              "#0d0887"
             ],
             [
              0.1111111111111111,
              "#46039f"
             ],
             [
              0.2222222222222222,
              "#7201a8"
             ],
             [
              0.3333333333333333,
              "#9c179e"
             ],
             [
              0.4444444444444444,
              "#bd3786"
             ],
             [
              0.5555555555555556,
              "#d8576b"
             ],
             [
              0.6666666666666666,
              "#ed7953"
             ],
             [
              0.7777777777777778,
              "#fb9f3a"
             ],
             [
              0.8888888888888888,
              "#fdca26"
             ],
             [
              1,
              "#f0f921"
             ]
            ],
            "type": "heatmap"
           }
          ],
          "heatmapgl": [
           {
            "colorbar": {
             "outlinewidth": 0,
             "ticks": ""
            },
            "colorscale": [
             [
              0,
              "#0d0887"
             ],
             [
              0.1111111111111111,
              "#46039f"
             ],
             [
              0.2222222222222222,
              "#7201a8"
             ],
             [
              0.3333333333333333,
              "#9c179e"
             ],
             [
              0.4444444444444444,
              "#bd3786"
             ],
             [
              0.5555555555555556,
              "#d8576b"
             ],
             [
              0.6666666666666666,
              "#ed7953"
             ],
             [
              0.7777777777777778,
              "#fb9f3a"
             ],
             [
              0.8888888888888888,
              "#fdca26"
             ],
             [
              1,
              "#f0f921"
             ]
            ],
            "type": "heatmapgl"
           }
          ],
          "histogram": [
           {
            "marker": {
             "pattern": {
              "fillmode": "overlay",
              "size": 10,
              "solidity": 0.2
             }
            },
            "type": "histogram"
           }
          ],
          "histogram2d": [
           {
            "colorbar": {
             "outlinewidth": 0,
             "ticks": ""
            },
            "colorscale": [
             [
              0,
              "#0d0887"
             ],
             [
              0.1111111111111111,
              "#46039f"
             ],
             [
              0.2222222222222222,
              "#7201a8"
             ],
             [
              0.3333333333333333,
              "#9c179e"
             ],
             [
              0.4444444444444444,
              "#bd3786"
             ],
             [
              0.5555555555555556,
              "#d8576b"
             ],
             [
              0.6666666666666666,
              "#ed7953"
             ],
             [
              0.7777777777777778,
              "#fb9f3a"
             ],
             [
              0.8888888888888888,
              "#fdca26"
             ],
             [
              1,
              "#f0f921"
             ]
            ],
            "type": "histogram2d"
           }
          ],
          "histogram2dcontour": [
           {
            "colorbar": {
             "outlinewidth": 0,
             "ticks": ""
            },
            "colorscale": [
             [
              0,
              "#0d0887"
             ],
             [
              0.1111111111111111,
              "#46039f"
             ],
             [
              0.2222222222222222,
              "#7201a8"
             ],
             [
              0.3333333333333333,
              "#9c179e"
             ],
             [
              0.4444444444444444,
              "#bd3786"
             ],
             [
              0.5555555555555556,
              "#d8576b"
             ],
             [
              0.6666666666666666,
              "#ed7953"
             ],
             [
              0.7777777777777778,
              "#fb9f3a"
             ],
             [
              0.8888888888888888,
              "#fdca26"
             ],
             [
              1,
              "#f0f921"
             ]
            ],
            "type": "histogram2dcontour"
           }
          ],
          "mesh3d": [
           {
            "colorbar": {
             "outlinewidth": 0,
             "ticks": ""
            },
            "type": "mesh3d"
           }
          ],
          "parcoords": [
           {
            "line": {
             "colorbar": {
              "outlinewidth": 0,
              "ticks": ""
             }
            },
            "type": "parcoords"
           }
          ],
          "pie": [
           {
            "automargin": true,
            "type": "pie"
           }
          ],
          "scatter": [
           {
            "marker": {
             "colorbar": {
              "outlinewidth": 0,
              "ticks": ""
             }
            },
            "type": "scatter"
           }
          ],
          "scatter3d": [
           {
            "line": {
             "colorbar": {
              "outlinewidth": 0,
              "ticks": ""
             }
            },
            "marker": {
             "colorbar": {
              "outlinewidth": 0,
              "ticks": ""
             }
            },
            "type": "scatter3d"
           }
          ],
          "scattercarpet": [
           {
            "marker": {
             "colorbar": {
              "outlinewidth": 0,
              "ticks": ""
             }
            },
            "type": "scattercarpet"
           }
          ],
          "scattergeo": [
           {
            "marker": {
             "colorbar": {
              "outlinewidth": 0,
              "ticks": ""
             }
            },
            "type": "scattergeo"
           }
          ],
          "scattergl": [
           {
            "marker": {
             "colorbar": {
              "outlinewidth": 0,
              "ticks": ""
             }
            },
            "type": "scattergl"
           }
          ],
          "scattermapbox": [
           {
            "marker": {
             "colorbar": {
              "outlinewidth": 0,
              "ticks": ""
             }
            },
            "type": "scattermapbox"
           }
          ],
          "scatterpolar": [
           {
            "marker": {
             "colorbar": {
              "outlinewidth": 0,
              "ticks": ""
             }
            },
            "type": "scatterpolar"
           }
          ],
          "scatterpolargl": [
           {
            "marker": {
             "colorbar": {
              "outlinewidth": 0,
              "ticks": ""
             }
            },
            "type": "scatterpolargl"
           }
          ],
          "scatterternary": [
           {
            "marker": {
             "colorbar": {
              "outlinewidth": 0,
              "ticks": ""
             }
            },
            "type": "scatterternary"
           }
          ],
          "surface": [
           {
            "colorbar": {
             "outlinewidth": 0,
             "ticks": ""
            },
            "colorscale": [
             [
              0,
              "#0d0887"
             ],
             [
              0.1111111111111111,
              "#46039f"
             ],
             [
              0.2222222222222222,
              "#7201a8"
             ],
             [
              0.3333333333333333,
              "#9c179e"
             ],
             [
              0.4444444444444444,
              "#bd3786"
             ],
             [
              0.5555555555555556,
              "#d8576b"
             ],
             [
              0.6666666666666666,
              "#ed7953"
             ],
             [
              0.7777777777777778,
              "#fb9f3a"
             ],
             [
              0.8888888888888888,
              "#fdca26"
             ],
             [
              1,
              "#f0f921"
             ]
            ],
            "type": "surface"
           }
          ],
          "table": [
           {
            "cells": {
             "fill": {
              "color": "#EBF0F8"
             },
             "line": {
              "color": "white"
             }
            },
            "header": {
             "fill": {
              "color": "#C8D4E3"
             },
             "line": {
              "color": "white"
             }
            },
            "type": "table"
           }
          ]
         },
         "layout": {
          "annotationdefaults": {
           "arrowcolor": "#2a3f5f",
           "arrowhead": 0,
           "arrowwidth": 1
          },
          "autotypenumbers": "strict",
          "coloraxis": {
           "colorbar": {
            "outlinewidth": 0,
            "ticks": ""
           }
          },
          "colorscale": {
           "diverging": [
            [
             0,
             "#8e0152"
            ],
            [
             0.1,
             "#c51b7d"
            ],
            [
             0.2,
             "#de77ae"
            ],
            [
             0.3,
             "#f1b6da"
            ],
            [
             0.4,
             "#fde0ef"
            ],
            [
             0.5,
             "#f7f7f7"
            ],
            [
             0.6,
             "#e6f5d0"
            ],
            [
             0.7,
             "#b8e186"
            ],
            [
             0.8,
             "#7fbc41"
            ],
            [
             0.9,
             "#4d9221"
            ],
            [
             1,
             "#276419"
            ]
           ],
           "sequential": [
            [
             0,
             "#0d0887"
            ],
            [
             0.1111111111111111,
             "#46039f"
            ],
            [
             0.2222222222222222,
             "#7201a8"
            ],
            [
             0.3333333333333333,
             "#9c179e"
            ],
            [
             0.4444444444444444,
             "#bd3786"
            ],
            [
             0.5555555555555556,
             "#d8576b"
            ],
            [
             0.6666666666666666,
             "#ed7953"
            ],
            [
             0.7777777777777778,
             "#fb9f3a"
            ],
            [
             0.8888888888888888,
             "#fdca26"
            ],
            [
             1,
             "#f0f921"
            ]
           ],
           "sequentialminus": [
            [
             0,
             "#0d0887"
            ],
            [
             0.1111111111111111,
             "#46039f"
            ],
            [
             0.2222222222222222,
             "#7201a8"
            ],
            [
             0.3333333333333333,
             "#9c179e"
            ],
            [
             0.4444444444444444,
             "#bd3786"
            ],
            [
             0.5555555555555556,
             "#d8576b"
            ],
            [
             0.6666666666666666,
             "#ed7953"
            ],
            [
             0.7777777777777778,
             "#fb9f3a"
            ],
            [
             0.8888888888888888,
             "#fdca26"
            ],
            [
             1,
             "#f0f921"
            ]
           ]
          },
          "colorway": [
           "#636efa",
           "#EF553B",
           "#00cc96",
           "#ab63fa",
           "#FFA15A",
           "#19d3f3",
           "#FF6692",
           "#B6E880",
           "#FF97FF",
           "#FECB52"
          ],
          "font": {
           "color": "#2a3f5f"
          },
          "geo": {
           "bgcolor": "white",
           "lakecolor": "white",
           "landcolor": "#E5ECF6",
           "showlakes": true,
           "showland": true,
           "subunitcolor": "white"
          },
          "hoverlabel": {
           "align": "left"
          },
          "hovermode": "closest",
          "mapbox": {
           "style": "light"
          },
          "paper_bgcolor": "white",
          "plot_bgcolor": "#E5ECF6",
          "polar": {
           "angularaxis": {
            "gridcolor": "white",
            "linecolor": "white",
            "ticks": ""
           },
           "bgcolor": "#E5ECF6",
           "radialaxis": {
            "gridcolor": "white",
            "linecolor": "white",
            "ticks": ""
           }
          },
          "scene": {
           "xaxis": {
            "backgroundcolor": "#E5ECF6",
            "gridcolor": "white",
            "gridwidth": 2,
            "linecolor": "white",
            "showbackground": true,
            "ticks": "",
            "zerolinecolor": "white"
           },
           "yaxis": {
            "backgroundcolor": "#E5ECF6",
            "gridcolor": "white",
            "gridwidth": 2,
            "linecolor": "white",
            "showbackground": true,
            "ticks": "",
            "zerolinecolor": "white"
           },
           "zaxis": {
            "backgroundcolor": "#E5ECF6",
            "gridcolor": "white",
            "gridwidth": 2,
            "linecolor": "white",
            "showbackground": true,
            "ticks": "",
            "zerolinecolor": "white"
           }
          },
          "shapedefaults": {
           "line": {
            "color": "#2a3f5f"
           }
          },
          "ternary": {
           "aaxis": {
            "gridcolor": "white",
            "linecolor": "white",
            "ticks": ""
           },
           "baxis": {
            "gridcolor": "white",
            "linecolor": "white",
            "ticks": ""
           },
           "bgcolor": "#E5ECF6",
           "caxis": {
            "gridcolor": "white",
            "linecolor": "white",
            "ticks": ""
           }
          },
          "title": {
           "x": 0.05
          },
          "xaxis": {
           "automargin": true,
           "gridcolor": "white",
           "linecolor": "white",
           "ticks": "",
           "title": {
            "standoff": 15
           },
           "zerolinecolor": "white",
           "zerolinewidth": 2
          },
          "yaxis": {
           "automargin": true,
           "gridcolor": "white",
           "linecolor": "white",
           "ticks": "",
           "title": {
            "standoff": 15
           },
           "zerolinecolor": "white",
           "zerolinewidth": 2
          }
         }
        },
        "xaxis": {
         "anchor": "y",
         "domain": [
          0,
          0.94
         ]
        },
        "yaxis": {
         "anchor": "x",
         "domain": [
          0,
          1
         ]
        },
        "yaxis2": {
         "anchor": "x",
         "overlaying": "y",
         "side": "right"
        }
       }
      }
     },
     "metadata": {}
    }
   ],
   "metadata": {}
  },
  {
   "cell_type": "code",
   "execution_count": null,
   "source": [],
   "outputs": [],
   "metadata": {}
  },
  {
   "cell_type": "code",
   "execution_count": null,
   "source": [],
   "outputs": [],
   "metadata": {}
  },
  {
   "cell_type": "code",
   "execution_count": null,
   "source": [],
   "outputs": [],
   "metadata": {}
  },
  {
   "cell_type": "code",
   "execution_count": null,
   "source": [],
   "outputs": [],
   "metadata": {}
  },
  {
   "cell_type": "code",
   "execution_count": null,
   "source": [],
   "outputs": [],
   "metadata": {}
  }
 ],
 "metadata": {
  "orig_nbformat": 4,
  "language_info": {
   "name": "python",
   "version": "3.8.8",
   "mimetype": "text/x-python",
   "codemirror_mode": {
    "name": "ipython",
    "version": 3
   },
   "pygments_lexer": "ipython3",
   "nbconvert_exporter": "python",
   "file_extension": ".py"
  },
  "kernelspec": {
   "name": "python3",
   "display_name": "Python 3.8.8 64-bit ('base': conda)"
  },
  "interpreter": {
   "hash": "111fc2b94a257ed4840542c3bd9dace8d701c5156006f7bd3b4de63054408d78"
  }
 },
 "nbformat": 4,
 "nbformat_minor": 2
}